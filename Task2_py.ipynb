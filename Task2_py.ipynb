{
  "cells": [
    {
      "cell_type": "markdown",
      "metadata": {
        "id": "view-in-github",
        "colab_type": "text"
      },
      "source": [
        "<a href=\"https://colab.research.google.com/github/AnushaErugadhindla/CODSOFT/blob/A50-Python/Task2_py.ipynb\" target=\"_parent\"><img src=\"https://colab.research.google.com/assets/colab-badge.svg\" alt=\"Open In Colab\"/></a>"
      ]
    },
    {
      "cell_type": "code",
      "execution_count": 2,
      "metadata": {
        "colab": {
          "base_uri": "https://localhost:8080/"
        },
        "id": "AygJFcnLXPHe",
        "outputId": "aa9227d0-0062-4d13-eb96-f4f20183b463"
      },
      "outputs": [
        {
          "output_type": "stream",
          "name": "stdout",
          "text": [
            "Enter your first value: 10\n",
            "Enter your second value: 10\n",
            "Enter the operation sign you want\n",
            "+ - * / %\n",
            "sign: +\n",
            "Resulted value is:  20.0\n"
          ]
        }
      ],
      "source": [
        "# SIMPLE CALCULATOR\n",
        "value1=float(input(\"Enter your first value: \"))\n",
        "value2=float(input(\"Enter your second value: \"))\n",
        "print(\"Enter the operation sign you want\")\n",
        "print(\"+\" ,\"-\" ,\"*\" ,\"/\",\"%\")\n",
        "sign=input(\"sign: \" )\n",
        "if sign==\"+\":\n",
        "           print(\"Resulted value is: \",value1+value2)\n",
        "elif sign == \"-\":\n",
        "           print(\"Resulted value is: \",value1-value2)\n",
        "elif sign == \"*\":\n",
        "           print(\"Resulted value is: \",value1*value2)\n",
        "elif sign == \"/\":\n",
        "           print(\"Resulted value is: \",value1/value2)\n",
        "elif sign == \"%\":\n",
        "           print(\"Resulted value is :\",value1%value2)\n",
        "else:\n",
        "           print(\"ENTER VALID SIGN!!\")"
      ]
    }
  ],
  "metadata": {
    "colab": {
      "provenance": [],
      "authorship_tag": "ABX9TyNdgS+X9oy/dpGqcJ68uRMc",
      "include_colab_link": true
    },
    "kernelspec": {
      "display_name": "Python 3",
      "name": "python3"
    },
    "language_info": {
      "name": "python"
    }
  },
  "nbformat": 4,
  "nbformat_minor": 0
}