{
  "nbformat": 4,
  "nbformat_minor": 0,
  "metadata": {
    "colab": {
      "provenance": [],
      "authorship_tag": "ABX9TyOurZGmr6QafiuEyIpjOkov",
      "include_colab_link": true
    },
    "kernelspec": {
      "name": "python3",
      "display_name": "Python 3"
    },
    "language_info": {
      "name": "python"
    }
  },
  "cells": [
    {
      "cell_type": "markdown",
      "metadata": {
        "id": "view-in-github",
        "colab_type": "text"
      },
      "source": [
        "<a href=\"https://colab.research.google.com/github/AnushaErugadhindla/CODSOFT/blob/A50-Python/Task3_py.ipynb\" target=\"_parent\"><img src=\"https://colab.research.google.com/assets/colab-badge.svg\" alt=\"Open In Colab\"/></a>"
      ]
    },
    {
      "cell_type": "code",
      "execution_count": null,
      "metadata": {
        "colab": {
          "base_uri": "https://localhost:8080/"
        },
        "id": "Naf0DFQpLa8N",
        "outputId": "aa3dd8fc-df99-42f6-8cc4-51189e44c37a"
      },
      "outputs": [
        {
          "output_type": "stream",
          "name": "stdout",
          "text": [
            "Enter length of password: 8\n",
            "Choose complexity level ('strong' , 'moderate' , 'weak'): strong\n",
            "Your Password is : BTGI'>:@\n"
          ]
        }
      ],
      "source": [
        "# PASSWORD GENERATOR\n",
        "import random\n",
        "import string\n",
        "def password_generate(len,complexity):\n",
        "  if complexity == 'strong':\n",
        "    char = string.ascii_letters + string.digits + string.punctuation\n",
        "  elif complexity == 'moderate':\n",
        "    char = string.ascii_letters + string.punctuation\n",
        "  elif complexity == 'weak':\n",
        "    char = string.ascii_letters\n",
        "  else:\n",
        "    print(\"PLEASE CHOOSE VALID COMPLEXITY LEVEL!!!\")\n",
        "    return None\n",
        "  resulted_password = ''.join(random.choice(char) for i in range(len))\n",
        "  return resulted_password\n",
        "len = int(input(\"Enter length of password: \"))\n",
        "complexity = input(\"Choose complexity level ('strong' , 'moderate' , 'weak'): \")\n",
        "resulted_password = password_generate(len,complexity)\n",
        "print(f\"Your Password is : {resulted_password}\")"
      ]
    }
  ]
}