{
  "nbformat": 4,
  "nbformat_minor": 0,
  "metadata": {
    "colab": {
      "provenance": [],
      "authorship_tag": "ABX9TyP8U/ygOo7CCw4T7FUjxBxv",
      "include_colab_link": true
    },
    "kernelspec": {
      "name": "python3",
      "display_name": "Python 3"
    },
    "language_info": {
      "name": "python"
    }
  },
  "cells": [
    {
      "cell_type": "markdown",
      "metadata": {
        "id": "view-in-github",
        "colab_type": "text"
      },
      "source": [
        "<a href=\"https://colab.research.google.com/github/AnushaErugadhindla/CODSOFT/blob/A50-Python/Task4_py.ipynb\" target=\"_parent\"><img src=\"https://colab.research.google.com/assets/colab-badge.svg\" alt=\"Open In Colab\"/></a>"
      ]
    },
    {
      "cell_type": "code",
      "execution_count": 10,
      "metadata": {
        "colab": {
          "base_uri": "https://localhost:8080/"
        },
        "outputId": "0e613bc2-609b-4be1-afa8-a869aa43d41c",
        "id": "L0gZZldm-tzm"
      },
      "outputs": [
        {
          "output_type": "stream",
          "name": "stdout",
          "text": [
            "Enter any choice from(Rock,Paper,Scissors): rock\n",
            "\n",
            "You chose Rock. \n",
            "Computer chose Scissors.\n",
            "Rock smashes Scissors... You WIN\n",
            "Want to play again (yes/no): yes\n",
            "Enter any choice from(Rock,Paper,Scissors): rock\n",
            "\n",
            "You chose Rock. \n",
            "Computer chose Paper.\n",
            "Paper covers Roc k... You LOSE!!\n",
            "Want to play again (yes/no): yes\n",
            "Enter any choice from(Rock,Paper,Scissors): rock\n",
            "\n",
            "You chose Rock. \n",
            "Computer chose Rock.\n",
            "Both selected Rock...It's TIE\n",
            "Want to play again (yes/no): no\n",
            "Thankyou for playing...\n"
          ]
        }
      ],
      "source": [
        "#ROCK PAPER SCISSORS GAME\n",
        "\n",
        "# import random module\n",
        "import random\n",
        "# define the function to start the game\n",
        "def game_start():\n",
        "  # define the list of possible choices\n",
        "  possible_choices = [\"Rock\",\"Paper\",\"Scissors\"]\n",
        "  # Ask the user to give their choice\n",
        "  user_choice = input(\"Enter any choice from(Rock,Paper,Scissors): \").capitalize()\n",
        "  # check if the user choice is valid\n",
        "  if user_choice not in possible_choices:\n",
        "    # print an error message if choice is not valid\n",
        "    print('SELECT VALID CHOICE FROMv[\"Rock\",\"Paper\" ,\"Scissors\"]')\n",
        "    return\n",
        "  # Generate a random choice for the computer\n",
        "  computer_choice = random.choice(possible_choices)\n",
        "  # display the user's choice and the computer's choice\n",
        "  print(f\"\\nYou chose {user_choice}. \\nComputer chose {computer_choice}.\")\n",
        "\n",
        "  #check the outcome of the game based on choices\n",
        "  if  user_choice == computer_choice:\n",
        "    # print the outcome if it is a tie\n",
        "    print(f\"Both selected {user_choice}...It's TIE\")\n",
        "  elif user_choice == \"Paper\":\n",
        "      if computer_choice == \"Scissors\":\n",
        "        # print the outcome if the user loses\n",
        "          print(\"Scissors cuts Paper...You LOSE!!\")\n",
        "      else:\n",
        "        # print the outcome if the user wins\n",
        "        print(\"Paper covers Rock...You WIN\")\n",
        "  elif user_choice == \"Scissors\":\n",
        "      if computer_choice == \"Rock\":\n",
        "        # print the outcome if the user loses\n",
        "        print(\"Rock smashes Scissors...You LOSE!!\")\n",
        "      else:\n",
        "        # print the outcome  if the user wins\n",
        "        print(\"Scissors cuts Paper...You WIN\")\n",
        "  elif user_choice == 'Rock':\n",
        "      if computer_choice == \"Paper\":\n",
        "        # print the outcome if the user loses\n",
        "        print(\"Paper covers Roc k... You LOSE!!\")\n",
        "      else:\n",
        "        # print the outcome if the user wins\n",
        "        print(\"Rock smashes Scissors... You WIN\")\n",
        "\n",
        "# start the game loop\n",
        "while True:\n",
        "   # call the game_start function to play again\n",
        "   game_start()\n",
        "   # ask the user if they want to play again\n",
        "   play_again = input(\"Want to play again (yes/no): \")\n",
        "   # check if the user wants to play again\n",
        "   if play_again != \"yes\":\n",
        "    # print the message and exit the game loop\n",
        "    print(\"Thankyou for playing...\")\n",
        "    break\n",
        "\n"
      ]
    }
  ]
}